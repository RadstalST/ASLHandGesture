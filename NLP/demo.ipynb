{
 "cells": [
  {
   "cell_type": "code",
   "execution_count": 6,
   "metadata": {},
   "outputs": [
    {
     "name": "stderr",
     "output_type": "stream",
     "text": [
      "[nltk_data] Downloading package words to\n",
      "[nltk_data]     /Users/suchattangjarukij/nltk_data...\n",
      "[nltk_data]   Unzipping corpora/words.zip.\n"
     ]
    }
   ],
   "source": [
    "import nltk\n",
    "from nltk.corpus import words\n",
    "from nltk.metrics.distance import (\n",
    "    edit_distance,\n",
    "    jaccard_distance,\n",
    "    )\n",
    "from nltk.util import ngrams\n",
    "nltk.download('words')\n",
    "import pandas"
   ]
  },
  {
   "cell_type": "code",
   "execution_count": 7,
   "metadata": {},
   "outputs": [
    {
     "data": {
      "text/plain": [
       "0                 A\n",
       "1                 a\n",
       "2                aa\n",
       "3               aal\n",
       "4             aalii\n",
       "            ...    \n",
       "236731       yellow\n",
       "236732          yes\n",
       "236733    yesterday\n",
       "236734          you\n",
       "236735        young\n",
       "Length: 236736, dtype: object"
      ]
     },
     "execution_count": 7,
     "metadata": {},
     "output_type": "execute_result"
    }
   ],
   "source": [
    "correct_spellings = words.words()\n",
    "spellings_series = pandas.Series(correct_spellings)\n",
    "spellings_series\n"
   ]
  },
  {
   "cell_type": "code",
   "execution_count": 14,
   "metadata": {},
   "outputs": [],
   "source": [
    "def jaccard(entries, gram_number):\n",
    "    \n",
    "    outcomes = []\n",
    "    for entry in entries: #iteratively for loop\n",
    "        if len(entry) <= gram_number:\n",
    "            outcomes.append('')\n",
    "            continue\n",
    "        spellings = spellings_series[spellings_series.str.startswith(entry[0])] \n",
    "        distances = ((jaccard_distance(set(ngrams(entry, gram_number)),\n",
    "                                       set(ngrams(word, gram_number))), word)\n",
    "                     for word in spellings)\n",
    "        closest = min(distances)\n",
    "        outcomes.append(closest[1])\n",
    "    return outcomes"
   ]
  },
  {
   "cell_type": "code",
   "execution_count": 15,
   "metadata": {},
   "outputs": [
    {
     "name": "stdout",
     "output_type": "stream",
     "text": [
      "['', '', '']\n"
     ]
    }
   ],
   "source": [
    "\n",
    "def JDreco(entries=['cormulent', 'incendenece', 'validrate']):\n",
    "    \"\"\"finds the closest word based on jaccard distance\"\"\"\n",
    "    return jaccard(entries, 3)\n",
    "print(JDreco())"
   ]
  },
  {
   "cell_type": "code",
   "execution_count": 16,
   "metadata": {},
   "outputs": [
    {
     "data": {
      "text/plain": [
       "['s', 'su', 'suc', 'sucu', 'sucul', 'sucule', 'suculen', 'suculent']"
      ]
     },
     "execution_count": 16,
     "metadata": {},
     "output_type": "execute_result"
    }
   ],
   "source": [
    "the_entry = \"suculent\"\n",
    "entries = [the_entry[:i+1] for i in range(0, len(the_entry))]\n",
    "entries"
   ]
  },
  {
   "cell_type": "code",
   "execution_count": 13,
   "metadata": {},
   "outputs": [
    {
     "ename": "ZeroDivisionError",
     "evalue": "division by zero",
     "output_type": "error",
     "traceback": [
      "\u001b[0;31m---------------------------------------------------------------------------\u001b[0m",
      "\u001b[0;31mZeroDivisionError\u001b[0m                         Traceback (most recent call last)",
      "Cell \u001b[0;32mIn[13], line 1\u001b[0m\n\u001b[0;32m----> 1\u001b[0m \u001b[39mprint\u001b[39m(JDreco(entries\u001b[39m=\u001b[39;49mentries))\n",
      "Cell \u001b[0;32mIn[9], line 3\u001b[0m, in \u001b[0;36mJDreco\u001b[0;34m(entries)\u001b[0m\n\u001b[1;32m      1\u001b[0m \u001b[39mdef\u001b[39;00m \u001b[39mJDreco\u001b[39m(entries\u001b[39m=\u001b[39m[\u001b[39m'\u001b[39m\u001b[39mcormulent\u001b[39m\u001b[39m'\u001b[39m, \u001b[39m'\u001b[39m\u001b[39mincendenece\u001b[39m\u001b[39m'\u001b[39m, \u001b[39m'\u001b[39m\u001b[39mvalidrate\u001b[39m\u001b[39m'\u001b[39m]):\n\u001b[1;32m      2\u001b[0m \u001b[39m    \u001b[39m\u001b[39m\"\"\"finds the closest word based on jaccard distance\"\"\"\u001b[39;00m\n\u001b[0;32m----> 3\u001b[0m     \u001b[39mreturn\u001b[39;00m jaccard(entries, \u001b[39m3\u001b[39;49m)\n",
      "Cell \u001b[0;32mIn[8], line 9\u001b[0m, in \u001b[0;36mjaccard\u001b[0;34m(entries, gram_number)\u001b[0m\n\u001b[1;32m      5\u001b[0m     spellings \u001b[39m=\u001b[39m spellings_series[spellings_series\u001b[39m.\u001b[39mstr\u001b[39m.\u001b[39mstartswith(entry[\u001b[39m0\u001b[39m])] \n\u001b[1;32m      6\u001b[0m     distances \u001b[39m=\u001b[39m ((jaccard_distance(\u001b[39mset\u001b[39m(ngrams(entry, gram_number)),\n\u001b[1;32m      7\u001b[0m                                    \u001b[39mset\u001b[39m(ngrams(word, gram_number))), word)\n\u001b[1;32m      8\u001b[0m                  \u001b[39mfor\u001b[39;00m word \u001b[39min\u001b[39;00m spellings)\n\u001b[0;32m----> 9\u001b[0m     closest \u001b[39m=\u001b[39m \u001b[39mmin\u001b[39;49m(distances)\n\u001b[1;32m     10\u001b[0m     outcomes\u001b[39m.\u001b[39mappend(closest[\u001b[39m1\u001b[39m])\n\u001b[1;32m     11\u001b[0m \u001b[39mreturn\u001b[39;00m outcomes\n",
      "Cell \u001b[0;32mIn[8], line 6\u001b[0m, in \u001b[0;36m<genexpr>\u001b[0;34m(.0)\u001b[0m\n\u001b[1;32m      4\u001b[0m \u001b[39mfor\u001b[39;00m entry \u001b[39min\u001b[39;00m entries: \u001b[39m#iteratively for loop\u001b[39;00m\n\u001b[1;32m      5\u001b[0m     spellings \u001b[39m=\u001b[39m spellings_series[spellings_series\u001b[39m.\u001b[39mstr\u001b[39m.\u001b[39mstartswith(entry[\u001b[39m0\u001b[39m])] \n\u001b[0;32m----> 6\u001b[0m     distances \u001b[39m=\u001b[39m ((jaccard_distance(\u001b[39mset\u001b[39;49m(ngrams(entry, gram_number)),\n\u001b[1;32m      7\u001b[0m                                    \u001b[39mset\u001b[39;49m(ngrams(word, gram_number))), word)\n\u001b[1;32m      8\u001b[0m                  \u001b[39mfor\u001b[39;00m word \u001b[39min\u001b[39;00m spellings)\n\u001b[1;32m      9\u001b[0m     closest \u001b[39m=\u001b[39m \u001b[39mmin\u001b[39m(distances)\n\u001b[1;32m     10\u001b[0m     outcomes\u001b[39m.\u001b[39mappend(closest[\u001b[39m1\u001b[39m])\n",
      "File \u001b[0;32m/opt/homebrew/Caskroom/miniforge/base/envs/metaltf/lib/python3.8/site-packages/nltk/metrics/distance.py:219\u001b[0m, in \u001b[0;36mjaccard_distance\u001b[0;34m(label1, label2)\u001b[0m\n\u001b[1;32m    217\u001b[0m \u001b[39mdef\u001b[39;00m \u001b[39mjaccard_distance\u001b[39m(label1, label2):\n\u001b[1;32m    218\u001b[0m \u001b[39m    \u001b[39m\u001b[39m\"\"\"Distance metric comparing set-similarity.\"\"\"\u001b[39;00m\n\u001b[0;32m--> 219\u001b[0m     \u001b[39mreturn\u001b[39;00m (\u001b[39mlen\u001b[39;49m(label1\u001b[39m.\u001b[39;49munion(label2)) \u001b[39m-\u001b[39;49m \u001b[39mlen\u001b[39;49m(label1\u001b[39m.\u001b[39;49mintersection(label2))) \u001b[39m/\u001b[39;49m \u001b[39mlen\u001b[39;49m(\n\u001b[1;32m    220\u001b[0m         label1\u001b[39m.\u001b[39;49munion(label2)\n\u001b[1;32m    221\u001b[0m     )\n",
      "\u001b[0;31mZeroDivisionError\u001b[0m: division by zero"
     ]
    }
   ],
   "source": [
    "print(JDreco(entries=entries))"
   ]
  },
  {
   "cell_type": "code",
   "execution_count": null,
   "metadata": {},
   "outputs": [],
   "source": []
  }
 ],
 "metadata": {
  "kernelspec": {
   "display_name": "metaltf",
   "language": "python",
   "name": "python3"
  },
  "language_info": {
   "codemirror_mode": {
    "name": "ipython",
    "version": 3
   },
   "file_extension": ".py",
   "mimetype": "text/x-python",
   "name": "python",
   "nbconvert_exporter": "python",
   "pygments_lexer": "ipython3",
   "version": "3.8.16"
  },
  "orig_nbformat": 4
 },
 "nbformat": 4,
 "nbformat_minor": 2
}
