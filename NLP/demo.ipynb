{
 "cells": [
  {
   "cell_type": "code",
   "execution_count": 6,
   "metadata": {},
   "outputs": [
    {
     "name": "stderr",
     "output_type": "stream",
     "text": [
      "[nltk_data] Downloading package words to\n",
      "[nltk_data]     /Users/suchattangjarukij/nltk_data...\n",
      "[nltk_data]   Unzipping corpora/words.zip.\n"
     ]
    }
   ],
   "source": [
    "import nltk\n",
    "from nltk.corpus import words\n",
    "from nltk.metrics.distance import (\n",
    "    edit_distance,\n",
    "    jaccard_distance,\n",
    "    )\n",
    "from nltk.util import ngrams\n",
    "nltk.download('words')\n",
    "import pandas"
   ]
  },
  {
   "cell_type": "code",
   "execution_count": 7,
   "metadata": {},
   "outputs": [
    {
     "data": {
      "text/plain": [
       "0                 A\n",
       "1                 a\n",
       "2                aa\n",
       "3               aal\n",
       "4             aalii\n",
       "            ...    \n",
       "236731       yellow\n",
       "236732          yes\n",
       "236733    yesterday\n",
       "236734          you\n",
       "236735        young\n",
       "Length: 236736, dtype: object"
      ]
     },
     "execution_count": 7,
     "metadata": {},
     "output_type": "execute_result"
    }
   ],
   "source": [
    "correct_spellings = words.words()\n",
    "spellings_series = pandas.Series(correct_spellings)\n",
    "spellings_series\n"
   ]
  },
  {
   "cell_type": "code",
   "execution_count": 17,
   "metadata": {},
   "outputs": [],
   "source": [
    "def jaccard(entries, gram_number):\n",
    "    \n",
    "    outcomes = []\n",
    "    for entry in entries: #iteratively for loop\n",
    "        if len(entry) <= gram_number:\n",
    "            outcomes.append('')\n",
    "            continue\n",
    "        spellings = spellings_series[spellings_series.str.startswith(entry[0])] \n",
    "        distances = ((jaccard_distance(set(ngrams(entry, gram_number)),\n",
    "                                       set(ngrams(word, gram_number))), word)\n",
    "                     for word in spellings)\n",
    "        closest = min(distances)\n",
    "        outcomes.append(closest[1])\n",
    "    return outcomes"
   ]
  },
  {
   "cell_type": "code",
   "execution_count": 18,
   "metadata": {},
   "outputs": [
    {
     "name": "stdout",
     "output_type": "stream",
     "text": [
      "['corpulent', 'indecence', 'validate']\n"
     ]
    }
   ],
   "source": [
    "\n",
    "def JDreco(entries=['cormulent', 'incendenece', 'validrate']):\n",
    "    \"\"\"finds the closest word based on jaccard distance\"\"\"\n",
    "    return jaccard(entries, 3)\n",
    "print(JDreco())"
   ]
  },
  {
   "cell_type": "code",
   "execution_count": 25,
   "metadata": {},
   "outputs": [
    {
     "data": {
      "text/plain": [
       "['s', 'su', 'suc', 'sucu', 'sucul', 'sucule', 'suculen', 'suculent']"
      ]
     },
     "execution_count": 25,
     "metadata": {},
     "output_type": "execute_result"
    }
   ],
   "source": [
    "the_entry = \"suculent\"\n",
    "entries = [the_entry[:i+1] for i in range(0, len(the_entry))]\n",
    "entries"
   ]
  },
  {
   "cell_type": "code",
   "execution_count": 26,
   "metadata": {},
   "outputs": [
    {
     "name": "stdout",
     "output_type": "stream",
     "text": [
      "['', '', '', 'sucuri', 'sucuri', 'succulent', 'succulent', 'succulent']\n"
     ]
    }
   ],
   "source": [
    "print(JDreco(entries=entries))"
   ]
  },
  {
   "cell_type": "code",
   "execution_count": null,
   "metadata": {},
   "outputs": [],
   "source": []
  }
 ],
 "metadata": {
  "kernelspec": {
   "display_name": "metaltf",
   "language": "python",
   "name": "python3"
  },
  "language_info": {
   "codemirror_mode": {
    "name": "ipython",
    "version": 3
   },
   "file_extension": ".py",
   "mimetype": "text/x-python",
   "name": "python",
   "nbconvert_exporter": "python",
   "pygments_lexer": "ipython3",
   "version": "3.8.16"
  },
  "orig_nbformat": 4
 },
 "nbformat": 4,
 "nbformat_minor": 2
}
